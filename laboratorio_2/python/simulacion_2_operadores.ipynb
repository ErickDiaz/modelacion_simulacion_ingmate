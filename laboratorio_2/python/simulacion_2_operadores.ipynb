{
 "cells": [
  {
   "cell_type": "code",
   "execution_count": 27,
   "id": "funny-spanish",
   "metadata": {},
   "outputs": [],
   "source": [
    "import simpy\n",
    "import random\n",
    "import seaborn as sns\n",
    "import pandas as pd\n",
    "from common import tiempo_aleatorio_operador, aleatorio_exponencial\n"
   ]
  },
  {
   "cell_type": "code",
   "execution_count": null,
   "id": "empty-wonder",
   "metadata": {},
   "outputs": [],
   "source": []
  },
  {
   "cell_type": "code",
   "execution_count": 28,
   "id": "finite-donor",
   "metadata": {},
   "outputs": [],
   "source": [
    "def get_tiempo(evento):\n",
    "    return evento.estado.tiempo\n",
    "\n",
    "\n",
    "def inserta_evento(evento, lista_eventos):\n",
    "    lista_eventos.append(evento)\n",
    "    lista_eventos.sort(key=get_tiempo)\n",
    "    \n",
    "    return lista_eventos\n",
    "\n",
    "\n",
    "def nuevo_cliente(estado, evento_actual, eventos_futuros):\n",
    "    \n",
    "    estado.tiempo = evento_actual.estado.tiempo\n",
    "    tiempo_atencion = 0\n",
    "\n",
    "    agregar_cola = True\n",
    "    active_op = False\n",
    "    \n",
    "    for operador in estado.operadores:\n",
    "        if (operador.estado == 0) and (active_op == False):\n",
    "            agregar_cola = False\n",
    "            active_op = True\n",
    "            operador.estado = 1\n",
    "\n",
    "            tiempo_atencion = tiempo_aleatorio_operador(operador.tiempo_prob)\n",
    "            tiempo_fin =  tiempo_atencion + evento_actual.estado.tiempo\n",
    "\n",
    "            nuevo_estado = Estado(tiempo_fin, estado.operadores, estado.cola, tiempo_atencion, operador)\n",
    "\n",
    "            nuevo_evento = Evento('final_cliente', nuevo_estado)\n",
    "\n",
    "            eventos_futuros = inserta_evento(nuevo_evento, eventos_futuros)\n",
    "\n",
    "\n",
    "    if agregar_cola:\n",
    "        estado.cola += 1\n",
    "        \n",
    "        \n",
    "    return eventos_futuros, estado\n",
    "\n",
    "def final_cliente(estado, evento_actual, eventos_futuros):\n",
    "    estado.tiempo = evento_actual.estado.tiempo\n",
    "    \n",
    "    if(estado.cola > 0):\n",
    "        # Si hay cola se saca a uno de la cola\n",
    "        estado.cola -= 1\n",
    "        \n",
    "        active_op = False\n",
    "        for operador in estado.operadores:\n",
    "            if (operador.estado == 0) and (active_op == False):\n",
    "                active_op = True\n",
    "                tiempo_atencion = tiempo_aleatorio_operador(operador.tiempo_prob)\n",
    "                tiempo_fin = tiempo_atencion + estado.tiempo\n",
    "                nuevo_estado = Estado(tiempo_fin, estado.operadores, estado.cola, tiempo_atencion, operador)\n",
    "        \n",
    "                nuevo_evento = Evento('final_cliente', nuevo_estado)\n",
    "                eventos_futuros = inserta_evento(nuevo_evento, eventos_futuros)\n",
    "\n",
    "            \n",
    "            \n",
    "    else:\n",
    "        # Si no hay cola\n",
    "        for operador in estado.operadores:\n",
    "            operador.estado = 0\n",
    "\n",
    "        \n",
    "    return eventos_futuros, estado"
   ]
  },
  {
   "cell_type": "markdown",
   "id": "legitimate-iraqi",
   "metadata": {},
   "source": [
    "## Declaracion de Objetos"
   ]
  },
  {
   "cell_type": "markdown",
   "id": "dental-coffee",
   "metadata": {},
   "source": [
    "### Objeto Operador"
   ]
  },
  {
   "cell_type": "code",
   "execution_count": 29,
   "id": "taken-petersburg",
   "metadata": {},
   "outputs": [],
   "source": [
    "class Operador(object):\n",
    "    def __init__(self, nombre, tiempo_prob, estado):\n",
    "        self.nombre = nombre\n",
    "        self.tiempo_prob = tiempo_prob\n",
    "        self.estado = estado\n",
    "        \n",
    "    "
   ]
  },
  {
   "cell_type": "markdown",
   "id": "marine-effect",
   "metadata": {},
   "source": [
    "### Objeto Evento"
   ]
  },
  {
   "cell_type": "code",
   "execution_count": 30,
   "id": "disabled-tomorrow",
   "metadata": {},
   "outputs": [],
   "source": [
    "class Evento(object):\n",
    "    def __init__(self, tipo, estado):\n",
    "        self.tipo = tipo\n",
    "        self.estado = estado\n",
    "        "
   ]
  },
  {
   "cell_type": "markdown",
   "id": "chronic-process",
   "metadata": {},
   "source": [
    "### Objeto Estado"
   ]
  },
  {
   "cell_type": "code",
   "execution_count": 31,
   "id": "flexible-encoding",
   "metadata": {},
   "outputs": [],
   "source": [
    "class Estado(object):\n",
    "    def __init__(self, tiempo, operadores, cola, tiempo_atencion=0, operador=None):\n",
    "        self.tiempo = tiempo\n",
    "        self.operadores = operadores\n",
    "        self.cola = cola\n",
    "        self.tiempo_atencion = tiempo_atencion\n",
    "        self.operador = operador"
   ]
  },
  {
   "cell_type": "markdown",
   "id": "prime-integral",
   "metadata": {},
   "source": [
    "# Operador A"
   ]
  },
  {
   "cell_type": "code",
   "execution_count": 32,
   "id": "steady-transition",
   "metadata": {},
   "outputs": [],
   "source": [
    "dict_probabilidades = {\n",
    "    (0,0.3):2,\n",
    "    (0.3,0.5):2.5,\n",
    "    (0.5,0.75):3,\n",
    "    (0.75,1):4\n",
    "}\n",
    "\n",
    "operador_a = Operador('operador_a', dict_probabilidades, 0)"
   ]
  },
  {
   "cell_type": "markdown",
   "id": "received-period",
   "metadata": {},
   "source": [
    "# Operador B"
   ]
  },
  {
   "cell_type": "code",
   "execution_count": 33,
   "id": "neither-checkout",
   "metadata": {},
   "outputs": [],
   "source": [
    "## Operador 1\n",
    "dict_probabilidades = {\n",
    "    (0,0.15): 2,\n",
    "    (0.15,0.3): 2.5,\n",
    "    (0.3,0.7): 3,\n",
    "    (0.7,0.9): 3.5,\n",
    "    (0.9, 1): 4\n",
    "}\n",
    "\n",
    "operador_b = Operador('operador_b', dict_probabilidades, 0)"
   ]
  },
  {
   "cell_type": "markdown",
   "id": "front-pointer",
   "metadata": {},
   "source": [
    "## Eventos\n",
    "\n",
    "Tipos de evento:\n",
    "- inicio\n",
    "- nuevo_cliente\n",
    "- final_cliente"
   ]
  },
  {
   "cell_type": "markdown",
   "id": "scheduled-imaging",
   "metadata": {},
   "source": [
    "# Simulacion"
   ]
  },
  {
   "cell_type": "code",
   "execution_count": 34,
   "id": "elegant-spyware",
   "metadata": {},
   "outputs": [],
   "source": [
    "lista_eventos = []\n",
    "lista_eventos_futuros = []"
   ]
  },
  {
   "cell_type": "markdown",
   "id": "mysterious-nowhere",
   "metadata": {},
   "source": [
    "### Evento Inicial"
   ]
  },
  {
   "cell_type": "code",
   "execution_count": 35,
   "id": "czech-rally",
   "metadata": {},
   "outputs": [],
   "source": [
    "# Tiempo = 0\n",
    "# Estado operador = 0\n",
    "# Cola = 0\n",
    "estado_inicial = Estado(0, [operador_a, operador_b],0)\n",
    "\n",
    "evento_inicial = Evento('inicio', estado_inicial)"
   ]
  },
  {
   "cell_type": "code",
   "execution_count": 36,
   "id": "juvenile-assets",
   "metadata": {},
   "outputs": [],
   "source": [
    "lista_eventos_futuros.append(evento_inicial)"
   ]
  },
  {
   "cell_type": "markdown",
   "id": "friendly-animal",
   "metadata": {},
   "source": [
    "### Agregando Clientes"
   ]
  },
  {
   "cell_type": "code",
   "execution_count": 37,
   "id": "vocational-orchestra",
   "metadata": {},
   "outputs": [],
   "source": [
    "tiempo_clientes = 0\n",
    "TOTAL_CLIENTES = 100\n",
    "\n",
    "for i in range(TOTAL_CLIENTES):\n",
    "    tiempo_clientes += aleatorio_exponencial(1/7)\n",
    "    evento = Evento('nuevo_cliente', Estado(tiempo_clientes, 0,0))\n",
    "    lista_eventos_futuros.append(evento)\n",
    "    "
   ]
  },
  {
   "cell_type": "raw",
   "id": "hired-science",
   "metadata": {},
   "source": []
  },
  {
   "cell_type": "code",
   "execution_count": 38,
   "id": "fancy-rouge",
   "metadata": {},
   "outputs": [],
   "source": [
    "estado_actual = Estado(0,[operador_a, operador_b],0)\n",
    "cliente_actual = 0\n",
    "\n",
    "while (len(lista_eventos_futuros) > 0):\n",
    "    \n",
    "    #Obtenemos el siguiente evento futuro\n",
    "    evento_actual = lista_eventos_futuros.pop(0)\n",
    "    \n",
    "\n",
    "    if evento_actual.tipo == 'nuevo_cliente':\n",
    "        lista_eventos_futuros, estado_actual = nuevo_cliente(\n",
    "            estado_actual,\n",
    "            evento_actual,\n",
    "            lista_eventos_futuros\n",
    "        )\n",
    "       \n",
    "     \n",
    "    if evento_actual.tipo == 'final_cliente':\n",
    "        lista_eventos_futuros, estado_actual = final_cliente(\n",
    "            estado_actual,\n",
    "            evento_actual,\n",
    "            lista_eventos_futuros\n",
    "        )\n",
    "        \n",
    "        cliente_actual += 1\n",
    "    \n",
    "    \n",
    "    nuevo_estado = Estado(\n",
    "        estado_actual.tiempo,\n",
    "        estado_actual.operadores,\n",
    "        estado_actual.cola,\n",
    "        evento_actual.estado.tiempo_atencion,\n",
    "        evento_actual.estado.operador\n",
    "    )\n",
    "    \n",
    "    nuevo_evento = Evento(evento_actual.tipo, nuevo_estado)\n",
    "    lista_eventos.append(nuevo_evento)\n",
    "    "
   ]
  },
  {
   "cell_type": "markdown",
   "id": "overhead-direction",
   "metadata": {},
   "source": [
    "## Resultados"
   ]
  },
  {
   "cell_type": "markdown",
   "id": "advance-jacksonville",
   "metadata": {},
   "source": [
    "### Objeto cliente"
   ]
  },
  {
   "cell_type": "code",
   "execution_count": 39,
   "id": "stretch-spotlight",
   "metadata": {},
   "outputs": [],
   "source": [
    "class Cliente(object):\n",
    "    def __init__(self, id_cliente, tiempo_llegada, tiempo_salida, cola, tiempo_atencion, operador):\n",
    "        self.id_cliente = id_cliente\n",
    "        self.tiempo_llegada = tiempo_llegada\n",
    "        self.tiempo_salida = tiempo_salida\n",
    "        self.cola = cola\n",
    "        self.tiempo_atencion = tiempo_atencion\n",
    "        self.operador = operador\n",
    "        "
   ]
  },
  {
   "cell_type": "code",
   "execution_count": 49,
   "id": "industrial-maximum",
   "metadata": {},
   "outputs": [],
   "source": [
    "lista_clientes = []"
   ]
  },
  {
   "cell_type": "code",
   "execution_count": 50,
   "id": "threatened-connection",
   "metadata": {},
   "outputs": [],
   "source": [
    "id_cliente = 1\n",
    "current_client = 0\n",
    "\n",
    "for evento in lista_eventos:\n",
    "\n",
    "    if evento.tipo == 'nuevo_cliente':\n",
    "        cliente_nuevo = Cliente(id_cliente, evento.estado.tiempo, 0, \n",
    "                                evento.estado.cola, 0, evento.estado.operador)\n",
    "        id_cliente += 1\n",
    "        lista_clientes.append(cliente_nuevo)\n",
    "            \n",
    "    if evento.tipo == 'final_cliente':\n",
    "        lista_clientes[current_client].tiempo_atencion = evento.estado.tiempo_atencion\n",
    "        lista_clientes[current_client].tiempo_salida = evento.estado.tiempo\n",
    "        lista_clientes[current_client].operador = evento.estado.operador\n",
    "\n",
    "        \n",
    "        current_client +=1"
   ]
  },
  {
   "cell_type": "code",
   "execution_count": 51,
   "id": "outstanding-billy",
   "metadata": {},
   "outputs": [],
   "source": [
    "clientes_dict = {\n",
    "    'cliente': [],\n",
    "    'tiempo_llegada': [],\n",
    "    'tiempo_salida': [],\n",
    "    'operador': [],\n",
    "    'cola': [],\n",
    "    'tiempo_atencion': [],\n",
    "    'tiempo_cola' : []\n",
    "}"
   ]
  },
  {
   "cell_type": "code",
   "execution_count": 52,
   "id": "talented-steel",
   "metadata": {},
   "outputs": [],
   "source": [
    "for cliente in lista_clientes:\n",
    "    # print(f\"===== Cliente {cliente.id_cliente}\")\n",
    "    # print(f\"Llegada {cliente.id_cliente}\")\n",
    "    # print(f\"tiempo_llegada: {cliente.tiempo_llegada}\")\n",
    "    # print(f\"tiempo_salida: {cliente.tiempo_salida}\")\n",
    "    # print(f\"cola: {cliente.cola}\")\n",
    "    # print(f\"tiempo_atencion: {cliente.tiempo_atencion}\")\n",
    "    \n",
    "    clientes_dict['cliente'].append(f\"Cliente {cliente.id_cliente}\")\n",
    "    clientes_dict['tiempo_llegada'].append(cliente.tiempo_llegada)\n",
    "    clientes_dict['tiempo_salida'].append(cliente.tiempo_salida)\n",
    "    \n",
    "    try:\n",
    "        clientes_dict['operador'].append(cliente.operador.nombre)\n",
    "    except:\n",
    "        clientes_dict['operador'].append(\"\")\n",
    "        \n",
    "    clientes_dict['cola'].append(cliente.cola)\n",
    "    clientes_dict['tiempo_atencion'].append(cliente.tiempo_atencion)\n",
    "    \n",
    "    tiempo_cola = 0\n",
    "    if cliente.cola > 0:\n",
    "        tiempo_cola = cliente.tiempo_salida - cliente.tiempo_atencion - cliente.tiempo_llegada\n",
    "    \n",
    "    clientes_dict['tiempo_cola'].append(tiempo_cola)"
   ]
  },
  {
   "cell_type": "code",
   "execution_count": 53,
   "id": "alert-kingdom",
   "metadata": {},
   "outputs": [],
   "source": [
    "df_clientes = pd.DataFrame(clientes_dict)"
   ]
  },
  {
   "cell_type": "code",
   "execution_count": 54,
   "id": "gothic-heating",
   "metadata": {},
   "outputs": [],
   "source": [
    "df_clientes['tiempo_sistema'] = df_clientes.tiempo_salida - df_clientes.tiempo_llegada"
   ]
  },
  {
   "cell_type": "code",
   "execution_count": 55,
   "id": "difficult-package",
   "metadata": {},
   "outputs": [
    {
     "data": {
      "text/html": [
       "<div>\n",
       "<style scoped>\n",
       "    .dataframe tbody tr th:only-of-type {\n",
       "        vertical-align: middle;\n",
       "    }\n",
       "\n",
       "    .dataframe tbody tr th {\n",
       "        vertical-align: top;\n",
       "    }\n",
       "\n",
       "    .dataframe thead th {\n",
       "        text-align: right;\n",
       "    }\n",
       "</style>\n",
       "<table border=\"1\" class=\"dataframe\">\n",
       "  <thead>\n",
       "    <tr style=\"text-align: right;\">\n",
       "      <th></th>\n",
       "      <th>cliente</th>\n",
       "      <th>tiempo_llegada</th>\n",
       "      <th>tiempo_salida</th>\n",
       "      <th>operador</th>\n",
       "      <th>cola</th>\n",
       "      <th>tiempo_atencion</th>\n",
       "      <th>tiempo_cola</th>\n",
       "      <th>tiempo_sistema</th>\n",
       "    </tr>\n",
       "  </thead>\n",
       "  <tbody>\n",
       "    <tr>\n",
       "      <th>0</th>\n",
       "      <td>Cliente 1</td>\n",
       "      <td>0.696966</td>\n",
       "      <td>2.696966</td>\n",
       "      <td>operador_a</td>\n",
       "      <td>0</td>\n",
       "      <td>2.0</td>\n",
       "      <td>0.000000</td>\n",
       "      <td>2.000000</td>\n",
       "    </tr>\n",
       "    <tr>\n",
       "      <th>1</th>\n",
       "      <td>Cliente 2</td>\n",
       "      <td>1.965523</td>\n",
       "      <td>4.465523</td>\n",
       "      <td>operador_b</td>\n",
       "      <td>0</td>\n",
       "      <td>2.5</td>\n",
       "      <td>0.000000</td>\n",
       "      <td>2.500000</td>\n",
       "    </tr>\n",
       "    <tr>\n",
       "      <th>2</th>\n",
       "      <td>Cliente 3</td>\n",
       "      <td>2.061161</td>\n",
       "      <td>10.022786</td>\n",
       "      <td>operador_a</td>\n",
       "      <td>1</td>\n",
       "      <td>2.0</td>\n",
       "      <td>5.961625</td>\n",
       "      <td>7.961625</td>\n",
       "    </tr>\n",
       "    <tr>\n",
       "      <th>3</th>\n",
       "      <td>Cliente 4</td>\n",
       "      <td>8.022786</td>\n",
       "      <td>25.215290</td>\n",
       "      <td>operador_a</td>\n",
       "      <td>0</td>\n",
       "      <td>3.0</td>\n",
       "      <td>0.000000</td>\n",
       "      <td>17.192503</td>\n",
       "    </tr>\n",
       "    <tr>\n",
       "      <th>4</th>\n",
       "      <td>Cliente 5</td>\n",
       "      <td>22.215290</td>\n",
       "      <td>32.930450</td>\n",
       "      <td>operador_a</td>\n",
       "      <td>0</td>\n",
       "      <td>2.0</td>\n",
       "      <td>0.000000</td>\n",
       "      <td>10.715160</td>\n",
       "    </tr>\n",
       "    <tr>\n",
       "      <th>...</th>\n",
       "      <td>...</td>\n",
       "      <td>...</td>\n",
       "      <td>...</td>\n",
       "      <td>...</td>\n",
       "      <td>...</td>\n",
       "      <td>...</td>\n",
       "      <td>...</td>\n",
       "      <td>...</td>\n",
       "    </tr>\n",
       "    <tr>\n",
       "      <th>95</th>\n",
       "      <td>Cliente 96</td>\n",
       "      <td>652.013038</td>\n",
       "      <td>690.525097</td>\n",
       "      <td>operador_a</td>\n",
       "      <td>0</td>\n",
       "      <td>2.5</td>\n",
       "      <td>0.000000</td>\n",
       "      <td>38.512060</td>\n",
       "    </tr>\n",
       "    <tr>\n",
       "      <th>96</th>\n",
       "      <td>Cliente 97</td>\n",
       "      <td>671.753757</td>\n",
       "      <td>694.292234</td>\n",
       "      <td>operador_a</td>\n",
       "      <td>0</td>\n",
       "      <td>3.0</td>\n",
       "      <td>0.000000</td>\n",
       "      <td>22.538478</td>\n",
       "    </tr>\n",
       "    <tr>\n",
       "      <th>97</th>\n",
       "      <td>Cliente 98</td>\n",
       "      <td>688.025097</td>\n",
       "      <td>694.406699</td>\n",
       "      <td>operador_b</td>\n",
       "      <td>0</td>\n",
       "      <td>2.0</td>\n",
       "      <td>0.000000</td>\n",
       "      <td>6.381601</td>\n",
       "    </tr>\n",
       "    <tr>\n",
       "      <th>98</th>\n",
       "      <td>Cliente 99</td>\n",
       "      <td>691.292234</td>\n",
       "      <td>0.000000</td>\n",
       "      <td></td>\n",
       "      <td>0</td>\n",
       "      <td>0.0</td>\n",
       "      <td>0.000000</td>\n",
       "      <td>-691.292234</td>\n",
       "    </tr>\n",
       "    <tr>\n",
       "      <th>99</th>\n",
       "      <td>Cliente 100</td>\n",
       "      <td>692.406699</td>\n",
       "      <td>0.000000</td>\n",
       "      <td></td>\n",
       "      <td>0</td>\n",
       "      <td>0.0</td>\n",
       "      <td>0.000000</td>\n",
       "      <td>-692.406699</td>\n",
       "    </tr>\n",
       "  </tbody>\n",
       "</table>\n",
       "<p>100 rows × 8 columns</p>\n",
       "</div>"
      ],
      "text/plain": [
       "        cliente  tiempo_llegada  tiempo_salida    operador  cola  \\\n",
       "0     Cliente 1        0.696966       2.696966  operador_a     0   \n",
       "1     Cliente 2        1.965523       4.465523  operador_b     0   \n",
       "2     Cliente 3        2.061161      10.022786  operador_a     1   \n",
       "3     Cliente 4        8.022786      25.215290  operador_a     0   \n",
       "4     Cliente 5       22.215290      32.930450  operador_a     0   \n",
       "..          ...             ...            ...         ...   ...   \n",
       "95   Cliente 96      652.013038     690.525097  operador_a     0   \n",
       "96   Cliente 97      671.753757     694.292234  operador_a     0   \n",
       "97   Cliente 98      688.025097     694.406699  operador_b     0   \n",
       "98   Cliente 99      691.292234       0.000000                 0   \n",
       "99  Cliente 100      692.406699       0.000000                 0   \n",
       "\n",
       "    tiempo_atencion  tiempo_cola  tiempo_sistema  \n",
       "0               2.0     0.000000        2.000000  \n",
       "1               2.5     0.000000        2.500000  \n",
       "2               2.0     5.961625        7.961625  \n",
       "3               3.0     0.000000       17.192503  \n",
       "4               2.0     0.000000       10.715160  \n",
       "..              ...          ...             ...  \n",
       "95              2.5     0.000000       38.512060  \n",
       "96              3.0     0.000000       22.538478  \n",
       "97              2.0     0.000000        6.381601  \n",
       "98              0.0     0.000000     -691.292234  \n",
       "99              0.0     0.000000     -692.406699  \n",
       "\n",
       "[100 rows x 8 columns]"
      ]
     },
     "execution_count": 55,
     "metadata": {},
     "output_type": "execute_result"
    }
   ],
   "source": [
    "df_clientes"
   ]
  },
  {
   "cell_type": "code",
   "execution_count": 56,
   "id": "hearing-greeting",
   "metadata": {},
   "outputs": [],
   "source": [
    "df_clientes = df_clientes[df_clientes.operador != \"\"]"
   ]
  },
  {
   "cell_type": "markdown",
   "id": "cross-forth",
   "metadata": {},
   "source": [
    "# Estadisticas"
   ]
  },
  {
   "cell_type": "code",
   "execution_count": 57,
   "id": "vocal-produce",
   "metadata": {},
   "outputs": [],
   "source": [
    "clientes_cola = df_clientes[df_clientes.cola >=0]"
   ]
  },
  {
   "cell_type": "code",
   "execution_count": 58,
   "id": "ordinary-pontiac",
   "metadata": {},
   "outputs": [
    {
     "data": {
      "text/html": [
       "<div>\n",
       "<style scoped>\n",
       "    .dataframe tbody tr th:only-of-type {\n",
       "        vertical-align: middle;\n",
       "    }\n",
       "\n",
       "    .dataframe tbody tr th {\n",
       "        vertical-align: top;\n",
       "    }\n",
       "\n",
       "    .dataframe thead th {\n",
       "        text-align: right;\n",
       "    }\n",
       "</style>\n",
       "<table border=\"1\" class=\"dataframe\">\n",
       "  <thead>\n",
       "    <tr style=\"text-align: right;\">\n",
       "      <th></th>\n",
       "      <th>cliente</th>\n",
       "      <th>tiempo_llegada</th>\n",
       "      <th>tiempo_salida</th>\n",
       "      <th>operador</th>\n",
       "      <th>cola</th>\n",
       "      <th>tiempo_atencion</th>\n",
       "      <th>tiempo_cola</th>\n",
       "      <th>tiempo_sistema</th>\n",
       "    </tr>\n",
       "  </thead>\n",
       "  <tbody>\n",
       "    <tr>\n",
       "      <th>0</th>\n",
       "      <td>Cliente 1</td>\n",
       "      <td>0.696966</td>\n",
       "      <td>2.696966</td>\n",
       "      <td>operador_a</td>\n",
       "      <td>0</td>\n",
       "      <td>2.0</td>\n",
       "      <td>0.000000</td>\n",
       "      <td>2.000000</td>\n",
       "    </tr>\n",
       "    <tr>\n",
       "      <th>1</th>\n",
       "      <td>Cliente 2</td>\n",
       "      <td>1.965523</td>\n",
       "      <td>4.465523</td>\n",
       "      <td>operador_b</td>\n",
       "      <td>0</td>\n",
       "      <td>2.5</td>\n",
       "      <td>0.000000</td>\n",
       "      <td>2.500000</td>\n",
       "    </tr>\n",
       "    <tr>\n",
       "      <th>2</th>\n",
       "      <td>Cliente 3</td>\n",
       "      <td>2.061161</td>\n",
       "      <td>10.022786</td>\n",
       "      <td>operador_a</td>\n",
       "      <td>1</td>\n",
       "      <td>2.0</td>\n",
       "      <td>5.961625</td>\n",
       "      <td>7.961625</td>\n",
       "    </tr>\n",
       "    <tr>\n",
       "      <th>3</th>\n",
       "      <td>Cliente 4</td>\n",
       "      <td>8.022786</td>\n",
       "      <td>25.215290</td>\n",
       "      <td>operador_a</td>\n",
       "      <td>0</td>\n",
       "      <td>3.0</td>\n",
       "      <td>0.000000</td>\n",
       "      <td>17.192503</td>\n",
       "    </tr>\n",
       "    <tr>\n",
       "      <th>4</th>\n",
       "      <td>Cliente 5</td>\n",
       "      <td>22.215290</td>\n",
       "      <td>32.930450</td>\n",
       "      <td>operador_a</td>\n",
       "      <td>0</td>\n",
       "      <td>2.0</td>\n",
       "      <td>0.000000</td>\n",
       "      <td>10.715160</td>\n",
       "    </tr>\n",
       "    <tr>\n",
       "      <th>...</th>\n",
       "      <td>...</td>\n",
       "      <td>...</td>\n",
       "      <td>...</td>\n",
       "      <td>...</td>\n",
       "      <td>...</td>\n",
       "      <td>...</td>\n",
       "      <td>...</td>\n",
       "      <td>...</td>\n",
       "    </tr>\n",
       "    <tr>\n",
       "      <th>93</th>\n",
       "      <td>Cliente 94</td>\n",
       "      <td>641.164579</td>\n",
       "      <td>655.013038</td>\n",
       "      <td>operador_b</td>\n",
       "      <td>0</td>\n",
       "      <td>3.0</td>\n",
       "      <td>0.000000</td>\n",
       "      <td>13.848459</td>\n",
       "    </tr>\n",
       "    <tr>\n",
       "      <th>94</th>\n",
       "      <td>Cliente 95</td>\n",
       "      <td>651.433343</td>\n",
       "      <td>673.753757</td>\n",
       "      <td>operador_a</td>\n",
       "      <td>0</td>\n",
       "      <td>2.0</td>\n",
       "      <td>0.000000</td>\n",
       "      <td>22.320414</td>\n",
       "    </tr>\n",
       "    <tr>\n",
       "      <th>95</th>\n",
       "      <td>Cliente 96</td>\n",
       "      <td>652.013038</td>\n",
       "      <td>690.525097</td>\n",
       "      <td>operador_a</td>\n",
       "      <td>0</td>\n",
       "      <td>2.5</td>\n",
       "      <td>0.000000</td>\n",
       "      <td>38.512060</td>\n",
       "    </tr>\n",
       "    <tr>\n",
       "      <th>96</th>\n",
       "      <td>Cliente 97</td>\n",
       "      <td>671.753757</td>\n",
       "      <td>694.292234</td>\n",
       "      <td>operador_a</td>\n",
       "      <td>0</td>\n",
       "      <td>3.0</td>\n",
       "      <td>0.000000</td>\n",
       "      <td>22.538478</td>\n",
       "    </tr>\n",
       "    <tr>\n",
       "      <th>97</th>\n",
       "      <td>Cliente 98</td>\n",
       "      <td>688.025097</td>\n",
       "      <td>694.406699</td>\n",
       "      <td>operador_b</td>\n",
       "      <td>0</td>\n",
       "      <td>2.0</td>\n",
       "      <td>0.000000</td>\n",
       "      <td>6.381601</td>\n",
       "    </tr>\n",
       "  </tbody>\n",
       "</table>\n",
       "<p>98 rows × 8 columns</p>\n",
       "</div>"
      ],
      "text/plain": [
       "       cliente  tiempo_llegada  tiempo_salida    operador  cola  \\\n",
       "0    Cliente 1        0.696966       2.696966  operador_a     0   \n",
       "1    Cliente 2        1.965523       4.465523  operador_b     0   \n",
       "2    Cliente 3        2.061161      10.022786  operador_a     1   \n",
       "3    Cliente 4        8.022786      25.215290  operador_a     0   \n",
       "4    Cliente 5       22.215290      32.930450  operador_a     0   \n",
       "..         ...             ...            ...         ...   ...   \n",
       "93  Cliente 94      641.164579     655.013038  operador_b     0   \n",
       "94  Cliente 95      651.433343     673.753757  operador_a     0   \n",
       "95  Cliente 96      652.013038     690.525097  operador_a     0   \n",
       "96  Cliente 97      671.753757     694.292234  operador_a     0   \n",
       "97  Cliente 98      688.025097     694.406699  operador_b     0   \n",
       "\n",
       "    tiempo_atencion  tiempo_cola  tiempo_sistema  \n",
       "0               2.0     0.000000        2.000000  \n",
       "1               2.5     0.000000        2.500000  \n",
       "2               2.0     5.961625        7.961625  \n",
       "3               3.0     0.000000       17.192503  \n",
       "4               2.0     0.000000       10.715160  \n",
       "..              ...          ...             ...  \n",
       "93              3.0     0.000000       13.848459  \n",
       "94              2.0     0.000000       22.320414  \n",
       "95              2.5     0.000000       38.512060  \n",
       "96              3.0     0.000000       22.538478  \n",
       "97              2.0     0.000000        6.381601  \n",
       "\n",
       "[98 rows x 8 columns]"
      ]
     },
     "execution_count": 58,
     "metadata": {},
     "output_type": "execute_result"
    }
   ],
   "source": [
    "clientes_cola"
   ]
  },
  {
   "cell_type": "markdown",
   "id": "polar-willow",
   "metadata": {},
   "source": [
    "## Tiempo medio en Cola "
   ]
  },
  {
   "cell_type": "code",
   "execution_count": 59,
   "id": "fossil-coffee",
   "metadata": {},
   "outputs": [
    {
     "data": {
      "text/plain": [
       "0.2757634242567961"
      ]
     },
     "execution_count": 59,
     "metadata": {},
     "output_type": "execute_result"
    }
   ],
   "source": [
    "clientes_cola.tiempo_cola.mean()"
   ]
  },
  {
   "cell_type": "code",
   "execution_count": 60,
   "id": "modular-guest",
   "metadata": {},
   "outputs": [
    {
     "name": "stderr",
     "output_type": "stream",
     "text": [
      "/home/erick/anaconda3/envs/geometria_diff/lib/python3.9/site-packages/seaborn/distributions.py:2551: FutureWarning: `distplot` is a deprecated function and will be removed in a future version. Please adapt your code to use either `displot` (a figure-level function with similar flexibility) or `histplot` (an axes-level function for histograms).\n",
      "  warnings.warn(msg, FutureWarning)\n"
     ]
    },
    {
     "data": {
      "text/plain": [
       "<AxesSubplot:xlabel='tiempo_cola', ylabel='Density'>"
      ]
     },
     "execution_count": 60,
     "metadata": {},
     "output_type": "execute_result"
    },
    {
     "data": {
      "image/png": "[encoded data removed]",
      "text/plain": [
       "<Figure size 432x288 with 1 Axes>"
      ]
     },
     "metadata": {
      "needs_background": "light"
     },
     "output_type": "display_data"
    }
   ],
   "source": [
    "sns.distplot(clientes_cola.tiempo_cola)"
   ]
  },
  {
   "cell_type": "markdown",
   "id": "black-forest",
   "metadata": {},
   "source": [
    "## Longitud promedio de Cola"
   ]
  },
  {
   "cell_type": "code",
   "execution_count": 61,
   "id": "bigger-devices",
   "metadata": {},
   "outputs": [
    {
     "data": {
      "text/plain": [
       "0.02040816326530612"
      ]
     },
     "execution_count": 61,
     "metadata": {},
     "output_type": "execute_result"
    }
   ],
   "source": [
    "clientes_cola.cola.mean()"
   ]
  },
  {
   "cell_type": "markdown",
   "id": "coated-cologne",
   "metadata": {},
   "source": [
    "## Tiempo medio en el sistema"
   ]
  },
  {
   "cell_type": "code",
   "execution_count": 62,
   "id": "involved-female",
   "metadata": {},
   "outputs": [
    {
     "data": {
      "text/plain": [
       "13.939662099970935"
      ]
     },
     "execution_count": 62,
     "metadata": {},
     "output_type": "execute_result"
    }
   ],
   "source": [
    "df_clientes.tiempo_sistema.mean()"
   ]
  },
  {
   "cell_type": "code",
   "execution_count": 63,
   "id": "determined-survey",
   "metadata": {},
   "outputs": [
    {
     "name": "stderr",
     "output_type": "stream",
     "text": [
      "/home/erick/anaconda3/envs/geometria_diff/lib/python3.9/site-packages/seaborn/distributions.py:2551: FutureWarning: `distplot` is a deprecated function and will be removed in a future version. Please adapt your code to use either `displot` (a figure-level function with similar flexibility) or `histplot` (an axes-level function for histograms).\n",
      "  warnings.warn(msg, FutureWarning)\n"
     ]
    },
    {
     "data": {
      "text/plain": [
       "<AxesSubplot:xlabel='tiempo_sistema', ylabel='Density'>"
      ]
     },
     "execution_count": 63,
     "metadata": {},
     "output_type": "execute_result"
    },
    {
     "data": {
      "image/png": "[encoded data removed]",
      "text/plain": [
       "<Figure size 432x288 with 1 Axes>"
      ]
     },
     "metadata": {
      "needs_background": "light"
     },
     "output_type": "display_data"
    }
   ],
   "source": [
    "sns.distplot(df_clientes.tiempo_sistema)"
   ]
  },
  {
   "cell_type": "markdown",
   "id": "unlimited-logic",
   "metadata": {},
   "source": [
    "## Porcentaje Ocupacion"
   ]
  },
  {
   "cell_type": "code",
   "execution_count": null,
   "id": "adjacent-tracy",
   "metadata": {},
   "outputs": [],
   "source": []
  },
  {
   "cell_type": "markdown",
   "id": "flush-hydrogen",
   "metadata": {},
   "source": [
    "```\n",
    "for evento in lista_eventos:\n",
    "    print(f\"=== Evento: {evento.tipo} ===\")\n",
    "    print(f\"Cola: {evento.estado.cola}\")\n",
    "    print(f\"Estado Operador: {evento.estado.estado_operador}\")\n",
    "    print(f\">> Tiempo: {evento.estado.tiempo}\")\n",
    "    \n",
    "    if evento.tipo == 'final_cliente':\n",
    "        print(f\">> Tiempo Atencion: {evento.estado.tiempo_atencion}\")\n",
    "            \n",
    "    print()\n",
    "```"
   ]
  },
  {
   "cell_type": "code",
   "execution_count": null,
   "id": "awful-auckland",
   "metadata": {},
   "outputs": [],
   "source": []
  }
 ],
 "metadata": {
  "kernelspec": {
   "display_name": "Python 3",
   "language": "python",
   "name": "python3"
  },
  "language_info": {
   "codemirror_mode": {
    "name": "ipython",
    "version": 3
   },
   "file_extension": ".py",
   "mimetype": "text/x-python",
   "name": "python",
   "nbconvert_exporter": "python",
   "pygments_lexer": "ipython3",
   "version": "3.9.1"
  }
 },
 "nbformat": 4,
 "nbformat_minor": 5
}
