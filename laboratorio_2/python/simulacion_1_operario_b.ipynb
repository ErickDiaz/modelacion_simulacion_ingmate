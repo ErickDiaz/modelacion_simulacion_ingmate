{
 "cells": [
  {
   "cell_type": "code",
   "execution_count": 1,
   "id": "informed-calcium",
   "metadata": {},
   "outputs": [],
   "source": [
    "import simpy\n",
    "import random\n",
    "import seaborn as sns\n",
    "import pandas as pd\n",
    "from common import tiempo_aleatorio_operador, aleatorio_exponencial\n",
    "from common import nuevo_cliente, final_cliente"
   ]
  },
  {
   "cell_type": "code",
   "execution_count": null,
   "id": "confirmed-handle",
   "metadata": {},
   "outputs": [],
   "source": []
  },
  {
   "cell_type": "code",
   "execution_count": 2,
   "id": "liable-southwest",
   "metadata": {},
   "outputs": [
    {
     "data": {
      "image/png": "[encoded data removed]",
      "text/plain": [
       "<Figure size 360x360 with 1 Axes>"
      ]
     },
     "metadata": {
      "needs_background": "light"
     },
     "output_type": "display_data"
    }
   ],
   "source": [
    "tiempos_clientes = []\n",
    "for i in range(0,1000):\n",
    "    t = aleatorio_exponencial(1)\n",
    "    tiempos_clientes.append(t)\n",
    "    \n",
    "ax = sns.displot(tiempos_clientes)"
   ]
  },
  {
   "cell_type": "markdown",
   "id": "interim-funeral",
   "metadata": {},
   "source": [
    "## Declaracion de Objetos"
   ]
  },
  {
   "cell_type": "markdown",
   "id": "antique-negotiation",
   "metadata": {},
   "source": [
    "### Objeto Operador"
   ]
  },
  {
   "cell_type": "code",
   "execution_count": 3,
   "id": "applied-trade",
   "metadata": {},
   "outputs": [],
   "source": [
    "class Operador(object):\n",
    "    def __init__(self, nombre, tiempo_prob):\n",
    "        self.nombre = nombre\n",
    "        self.tiempo_prob = tiempo_prob\n",
    "        \n",
    "    "
   ]
  },
  {
   "cell_type": "markdown",
   "id": "corresponding-feeding",
   "metadata": {},
   "source": [
    "### Objeto Evento"
   ]
  },
  {
   "cell_type": "code",
   "execution_count": 4,
   "id": "overall-radiation",
   "metadata": {},
   "outputs": [],
   "source": [
    "class Evento(object):\n",
    "    def __init__(self, tipo, estado):\n",
    "        self.tipo = tipo\n",
    "        self.estado = estado\n",
    "        "
   ]
  },
  {
   "cell_type": "markdown",
   "id": "photographic-xerox",
   "metadata": {},
   "source": [
    "### Objeto Estado"
   ]
  },
  {
   "cell_type": "code",
   "execution_count": 5,
   "id": "applied-granny",
   "metadata": {},
   "outputs": [],
   "source": [
    "class Estado(object):\n",
    "    def __init__(self, tiempo, estado_operador, cola, tiempo_atencion=0):\n",
    "        self.tiempo = tiempo\n",
    "        self.estado_operador = estado_operador\n",
    "        self.cola = cola\n",
    "        self.tiempo_atencion = tiempo_atencion"
   ]
  },
  {
   "cell_type": "markdown",
   "id": "promising-efficiency",
   "metadata": {},
   "source": [
    "# Operador 2"
   ]
  },
  {
   "cell_type": "code",
   "execution_count": 6,
   "id": "improved-springer",
   "metadata": {},
   "outputs": [],
   "source": [
    "## Operador 1\n",
    "dict_probabilidades = {\n",
    "    (0,0.15): 2,\n",
    "    (0.15,0.3): 2.5,\n",
    "    (0.3,0.7): 3,\n",
    "    (0.7,0.9): 3.5,\n",
    "    (0.9, 1): 4\n",
    "}\n",
    "\n",
    "operador_1 = Operador('operador_b', dict_probabilidades)"
   ]
  },
  {
   "cell_type": "code",
   "execution_count": 7,
   "id": "constant-turtle",
   "metadata": {},
   "outputs": [],
   "source": [
    "tiempos_op1 = []\n",
    "for i in range(0,1000):\n",
    "    t = tiempo_aleatorio_operador(operador_1.tiempo_prob)\n",
    "    tiempos_op1.append(t)"
   ]
  },
  {
   "cell_type": "code",
   "execution_count": 8,
   "id": "representative-forth",
   "metadata": {},
   "outputs": [
    {
     "data": {
      "text/plain": [
       "<seaborn.axisgrid.FacetGrid at 0x7f7fc82a56a0>"
      ]
     },
     "execution_count": 8,
     "metadata": {},
     "output_type": "execute_result"
    },
    {
     "data": {
      "image/png": "[encoded data removed]",
      "text/plain": [
       "<Figure size 360x360 with 1 Axes>"
      ]
     },
     "metadata": {
      "needs_background": "light"
     },
     "output_type": "display_data"
    }
   ],
   "source": [
    "ax = sns.displot(tiempos_op1)\n",
    "ax.set(xlabel=\"Tiempos aleatorios operador 2\")"
   ]
  },
  {
   "cell_type": "markdown",
   "id": "tough-ghana",
   "metadata": {},
   "source": [
    "## Eventos\n",
    "\n",
    "Tipos de evento:\n",
    "- inicio\n",
    "- nuevo_cliente\n",
    "- final_cliente"
   ]
  },
  {
   "cell_type": "markdown",
   "id": "disabled-eating",
   "metadata": {},
   "source": [
    "# Simulacion"
   ]
  },
  {
   "cell_type": "code",
   "execution_count": 9,
   "id": "formal-camel",
   "metadata": {},
   "outputs": [],
   "source": [
    "lista_eventos = []\n",
    "lista_eventos_futuros = []"
   ]
  },
  {
   "cell_type": "markdown",
   "id": "considered-sugar",
   "metadata": {},
   "source": [
    "### Evento Inicial"
   ]
  },
  {
   "cell_type": "code",
   "execution_count": 10,
   "id": "resident-collins",
   "metadata": {},
   "outputs": [],
   "source": [
    "# Tiempo = 0\n",
    "# Estado operador = 0\n",
    "# Cola = 0\n",
    "estado_inicial = Estado(0, 0,0)\n",
    "\n",
    "evento_inicial = Evento('inicio', estado_inicial)"
   ]
  },
  {
   "cell_type": "code",
   "execution_count": 11,
   "id": "northern-justice",
   "metadata": {},
   "outputs": [],
   "source": [
    "lista_eventos_futuros.append(evento_inicial)"
   ]
  },
  {
   "cell_type": "markdown",
   "id": "intelligent-coverage",
   "metadata": {},
   "source": [
    "### Agregando Clientes"
   ]
  },
  {
   "cell_type": "code",
   "execution_count": 12,
   "id": "equal-spoke",
   "metadata": {},
   "outputs": [],
   "source": [
    "tiempo_clientes = 0\n",
    "TOTAL_CLIENTES = 100\n",
    "\n",
    "for i in range(TOTAL_CLIENTES):\n",
    "    tiempo_clientes += aleatorio_exponencial(1)\n",
    "    evento = Evento('nuevo_cliente', Estado(tiempo_clientes, 0,0))\n",
    "    lista_eventos_futuros.append(evento)\n",
    "    "
   ]
  },
  {
   "cell_type": "raw",
   "id": "jewish-mechanics",
   "metadata": {},
   "source": []
  },
  {
   "cell_type": "code",
   "execution_count": 13,
   "id": "lonely-windsor",
   "metadata": {},
   "outputs": [],
   "source": [
    "estado_actual = Estado(0,0,0)\n",
    "cliente_actual = 0\n",
    "\n",
    "while (len(lista_eventos_futuros) > 0):\n",
    "    \n",
    "    #Obtenemos el siguiente evento futuro\n",
    "    evento_actual = lista_eventos_futuros.pop(0)\n",
    "    \n",
    "\n",
    "    if evento_actual.tipo == 'nuevo_cliente':\n",
    "        lista_eventos_futuros, estado_actual = nuevo_cliente(\n",
    "            estado_actual,\n",
    "            operador_1.tiempo_prob,\n",
    "            evento_actual,\n",
    "            lista_eventos_futuros\n",
    "        )\n",
    "       \n",
    "     \n",
    "    if evento_actual.tipo == 'final_cliente':\n",
    "        lista_eventos_futuros, estado_actual = final_cliente(\n",
    "            estado_actual,\n",
    "            operador_1.tiempo_prob,\n",
    "            evento_actual,\n",
    "            lista_eventos_futuros\n",
    "        )\n",
    "        \n",
    "        cliente_actual += 1\n",
    "    \n",
    "    \n",
    "    nuevo_estado = Estado(\n",
    "        estado_actual.tiempo,\n",
    "        estado_actual.estado_operador,\n",
    "        estado_actual.cola,\n",
    "        evento_actual.estado.tiempo_atencion\n",
    "    )\n",
    "    \n",
    "    nuevo_evento = Evento(evento_actual.tipo, nuevo_estado)\n",
    "    lista_eventos.append(nuevo_evento)\n",
    "    "
   ]
  },
  {
   "cell_type": "markdown",
   "id": "conceptual-match",
   "metadata": {},
   "source": [
    "## Resultados"
   ]
  },
  {
   "cell_type": "markdown",
   "id": "confident-connectivity",
   "metadata": {},
   "source": [
    "### Objeto cliente"
   ]
  },
  {
   "cell_type": "code",
   "execution_count": 14,
   "id": "natural-shore",
   "metadata": {},
   "outputs": [],
   "source": [
    "class Cliente(object):\n",
    "    def __init__(self, id_cliente, tiempo_llegada, tiempo_salida, cola, tiempo_atencion):\n",
    "        self.id_cliente = id_cliente\n",
    "        self.tiempo_llegada = tiempo_llegada\n",
    "        self.tiempo_salida = tiempo_salida\n",
    "        self.cola = cola\n",
    "        self.tiempo_atencion = tiempo_atencion\n",
    "        "
   ]
  },
  {
   "cell_type": "code",
   "execution_count": 15,
   "id": "material-wrong",
   "metadata": {},
   "outputs": [],
   "source": [
    "lista_clientes = []"
   ]
  },
  {
   "cell_type": "code",
   "execution_count": 16,
   "id": "smoking-supply",
   "metadata": {},
   "outputs": [],
   "source": [
    "id_cliente = 1\n",
    "current_client = 0\n",
    "\n",
    "for evento in lista_eventos:\n",
    "\n",
    "    if evento.tipo == 'nuevo_cliente':\n",
    "        cliente_nuevo = Cliente(id_cliente, evento.estado.tiempo, 0, evento.estado.cola, 0)\n",
    "        id_cliente += 1\n",
    "        lista_clientes.append(cliente_nuevo)\n",
    "            \n",
    "    if evento.tipo == 'final_cliente':\n",
    "        lista_clientes[current_client].tiempo_atencion = evento.estado.tiempo_atencion\n",
    "        lista_clientes[current_client].tiempo_salida = evento.estado.tiempo\n",
    "        current_client +=1"
   ]
  },
  {
   "cell_type": "code",
   "execution_count": 17,
   "id": "western-coordination",
   "metadata": {},
   "outputs": [],
   "source": [
    "clientes_dict = {\n",
    "    'cliente': [],\n",
    "    'tiempo_llegada': [],\n",
    "    'tiempo_salida': [],\n",
    "    'cola': [],\n",
    "    'tiempo_atencion': [],\n",
    "    'tiempo_cola' : []\n",
    "}"
   ]
  },
  {
   "cell_type": "code",
   "execution_count": 18,
   "id": "impaired-service",
   "metadata": {},
   "outputs": [],
   "source": [
    "for cliente in lista_clientes:\n",
    "    # print(f\"===== Cliente {cliente.id_cliente}\")\n",
    "    # print(f\"Llegada {cliente.id_cliente}\")\n",
    "    # print(f\"tiempo_llegada: {cliente.tiempo_llegada}\")\n",
    "    # print(f\"tiempo_salida: {cliente.tiempo_salida}\")\n",
    "    # print(f\"cola: {cliente.cola}\")\n",
    "    # print(f\"tiempo_atencion: {cliente.tiempo_atencion}\")\n",
    "    \n",
    "    clientes_dict['cliente'].append(f\"Cliente {cliente.id_cliente}\")\n",
    "    clientes_dict['tiempo_llegada'].append(cliente.tiempo_llegada)\n",
    "    clientes_dict['tiempo_salida'].append(cliente.tiempo_salida)\n",
    "    clientes_dict['cola'].append(cliente.cola)\n",
    "    clientes_dict['tiempo_atencion'].append(cliente.tiempo_atencion)\n",
    "    \n",
    "    tiempo_cola = 0\n",
    "    if cliente.cola > 0:\n",
    "        tiempo_cola = cliente.tiempo_salida - cliente.tiempo_atencion - cliente.tiempo_llegada\n",
    "    \n",
    "    clientes_dict['tiempo_cola'].append(tiempo_cola)"
   ]
  },
  {
   "cell_type": "code",
   "execution_count": 19,
   "id": "complete-concern",
   "metadata": {},
   "outputs": [],
   "source": [
    "df_clientes = pd.DataFrame(clientes_dict)"
   ]
  },
  {
   "cell_type": "code",
   "execution_count": 20,
   "id": "noticed-arctic",
   "metadata": {},
   "outputs": [],
   "source": [
    "df_clientes['tiempo_sistema'] = df_clientes.tiempo_salida - df_clientes.tiempo_llegada"
   ]
  },
  {
   "cell_type": "code",
   "execution_count": 21,
   "id": "preliminary-groove",
   "metadata": {},
   "outputs": [
    {
     "data": {
      "text/html": [
       "<div>\n",
       "<style scoped>\n",
       "    .dataframe tbody tr th:only-of-type {\n",
       "        vertical-align: middle;\n",
       "    }\n",
       "\n",
       "    .dataframe tbody tr th {\n",
       "        vertical-align: top;\n",
       "    }\n",
       "\n",
       "    .dataframe thead th {\n",
       "        text-align: right;\n",
       "    }\n",
       "</style>\n",
       "<table border=\"1\" class=\"dataframe\">\n",
       "  <thead>\n",
       "    <tr style=\"text-align: right;\">\n",
       "      <th></th>\n",
       "      <th>cliente</th>\n",
       "      <th>tiempo_llegada</th>\n",
       "      <th>tiempo_salida</th>\n",
       "      <th>cola</th>\n",
       "      <th>tiempo_atencion</th>\n",
       "      <th>tiempo_cola</th>\n",
       "      <th>tiempo_sistema</th>\n",
       "    </tr>\n",
       "  </thead>\n",
       "  <tbody>\n",
       "    <tr>\n",
       "      <th>0</th>\n",
       "      <td>Cliente 1</td>\n",
       "      <td>3.645738</td>\n",
       "      <td>7.145738</td>\n",
       "      <td>0</td>\n",
       "      <td>3.5</td>\n",
       "      <td>0.000000</td>\n",
       "      <td>3.500000</td>\n",
       "    </tr>\n",
       "    <tr>\n",
       "      <th>1</th>\n",
       "      <td>Cliente 2</td>\n",
       "      <td>4.330188</td>\n",
       "      <td>9.145738</td>\n",
       "      <td>1</td>\n",
       "      <td>2.0</td>\n",
       "      <td>2.815550</td>\n",
       "      <td>4.815550</td>\n",
       "    </tr>\n",
       "    <tr>\n",
       "      <th>2</th>\n",
       "      <td>Cliente 3</td>\n",
       "      <td>4.799602</td>\n",
       "      <td>13.145738</td>\n",
       "      <td>2</td>\n",
       "      <td>4.0</td>\n",
       "      <td>4.346136</td>\n",
       "      <td>8.346136</td>\n",
       "    </tr>\n",
       "    <tr>\n",
       "      <th>3</th>\n",
       "      <td>Cliente 4</td>\n",
       "      <td>6.461784</td>\n",
       "      <td>16.145738</td>\n",
       "      <td>3</td>\n",
       "      <td>3.0</td>\n",
       "      <td>6.683953</td>\n",
       "      <td>9.683953</td>\n",
       "    </tr>\n",
       "    <tr>\n",
       "      <th>4</th>\n",
       "      <td>Cliente 5</td>\n",
       "      <td>6.580953</td>\n",
       "      <td>19.145738</td>\n",
       "      <td>4</td>\n",
       "      <td>3.0</td>\n",
       "      <td>9.564785</td>\n",
       "      <td>12.564785</td>\n",
       "    </tr>\n",
       "    <tr>\n",
       "      <th>...</th>\n",
       "      <td>...</td>\n",
       "      <td>...</td>\n",
       "      <td>...</td>\n",
       "      <td>...</td>\n",
       "      <td>...</td>\n",
       "      <td>...</td>\n",
       "      <td>...</td>\n",
       "    </tr>\n",
       "    <tr>\n",
       "      <th>95</th>\n",
       "      <td>Cliente 96</td>\n",
       "      <td>92.691610</td>\n",
       "      <td>294.145738</td>\n",
       "      <td>64</td>\n",
       "      <td>2.0</td>\n",
       "      <td>199.454127</td>\n",
       "      <td>201.454127</td>\n",
       "    </tr>\n",
       "    <tr>\n",
       "      <th>96</th>\n",
       "      <td>Cliente 97</td>\n",
       "      <td>93.750806</td>\n",
       "      <td>298.145738</td>\n",
       "      <td>65</td>\n",
       "      <td>4.0</td>\n",
       "      <td>200.394932</td>\n",
       "      <td>204.394932</td>\n",
       "    </tr>\n",
       "    <tr>\n",
       "      <th>97</th>\n",
       "      <td>Cliente 98</td>\n",
       "      <td>97.626299</td>\n",
       "      <td>301.145738</td>\n",
       "      <td>65</td>\n",
       "      <td>3.0</td>\n",
       "      <td>200.519439</td>\n",
       "      <td>203.519439</td>\n",
       "    </tr>\n",
       "    <tr>\n",
       "      <th>98</th>\n",
       "      <td>Cliente 99</td>\n",
       "      <td>98.524242</td>\n",
       "      <td>304.145738</td>\n",
       "      <td>66</td>\n",
       "      <td>3.0</td>\n",
       "      <td>202.621496</td>\n",
       "      <td>205.621496</td>\n",
       "    </tr>\n",
       "    <tr>\n",
       "      <th>99</th>\n",
       "      <td>Cliente 100</td>\n",
       "      <td>99.277832</td>\n",
       "      <td>307.645738</td>\n",
       "      <td>66</td>\n",
       "      <td>3.5</td>\n",
       "      <td>204.867906</td>\n",
       "      <td>208.367906</td>\n",
       "    </tr>\n",
       "  </tbody>\n",
       "</table>\n",
       "<p>100 rows × 7 columns</p>\n",
       "</div>"
      ],
      "text/plain": [
       "        cliente  tiempo_llegada  tiempo_salida  cola  tiempo_atencion  \\\n",
       "0     Cliente 1        3.645738       7.145738     0              3.5   \n",
       "1     Cliente 2        4.330188       9.145738     1              2.0   \n",
       "2     Cliente 3        4.799602      13.145738     2              4.0   \n",
       "3     Cliente 4        6.461784      16.145738     3              3.0   \n",
       "4     Cliente 5        6.580953      19.145738     4              3.0   \n",
       "..          ...             ...            ...   ...              ...   \n",
       "95   Cliente 96       92.691610     294.145738    64              2.0   \n",
       "96   Cliente 97       93.750806     298.145738    65              4.0   \n",
       "97   Cliente 98       97.626299     301.145738    65              3.0   \n",
       "98   Cliente 99       98.524242     304.145738    66              3.0   \n",
       "99  Cliente 100       99.277832     307.645738    66              3.5   \n",
       "\n",
       "    tiempo_cola  tiempo_sistema  \n",
       "0      0.000000        3.500000  \n",
       "1      2.815550        4.815550  \n",
       "2      4.346136        8.346136  \n",
       "3      6.683953        9.683953  \n",
       "4      9.564785       12.564785  \n",
       "..          ...             ...  \n",
       "95   199.454127      201.454127  \n",
       "96   200.394932      204.394932  \n",
       "97   200.519439      203.519439  \n",
       "98   202.621496      205.621496  \n",
       "99   204.867906      208.367906  \n",
       "\n",
       "[100 rows x 7 columns]"
      ]
     },
     "execution_count": 21,
     "metadata": {},
     "output_type": "execute_result"
    }
   ],
   "source": [
    "df_clientes"
   ]
  },
  {
   "cell_type": "markdown",
   "id": "limiting-vatican",
   "metadata": {},
   "source": [
    "# Estadisticas"
   ]
  },
  {
   "cell_type": "code",
   "execution_count": 22,
   "id": "unavailable-convergence",
   "metadata": {},
   "outputs": [],
   "source": [
    "clientes_cola = df_clientes[df_clientes.cola >0]"
   ]
  },
  {
   "cell_type": "markdown",
   "id": "unlikely-philadelphia",
   "metadata": {},
   "source": [
    "## Tiempo medio en Cola "
   ]
  },
  {
   "cell_type": "code",
   "execution_count": 23,
   "id": "czech-offer",
   "metadata": {},
   "outputs": [
    {
     "data": {
      "text/plain": [
       "103.13019781284603"
      ]
     },
     "execution_count": 23,
     "metadata": {},
     "output_type": "execute_result"
    }
   ],
   "source": [
    "clientes_cola.tiempo_cola.mean()"
   ]
  },
  {
   "cell_type": "code",
   "execution_count": 24,
   "id": "mobile-dover",
   "metadata": {},
   "outputs": [
    {
     "name": "stderr",
     "output_type": "stream",
     "text": [
      "/home/erick/anaconda3/envs/geometria_diff/lib/python3.9/site-packages/seaborn/distributions.py:2551: FutureWarning: `distplot` is a deprecated function and will be removed in a future version. Please adapt your code to use either `displot` (a figure-level function with similar flexibility) or `histplot` (an axes-level function for histograms).\n",
      "  warnings.warn(msg, FutureWarning)\n"
     ]
    },
    {
     "data": {
      "text/plain": [
       "<AxesSubplot:xlabel='tiempo_cola', ylabel='Density'>"
      ]
     },
     "execution_count": 24,
     "metadata": {},
     "output_type": "execute_result"
    },
    {
     "data": {
      "image/png": "[encoded data removed]",
      "text/plain": [
       "<Figure size 432x288 with 1 Axes>"
      ]
     },
     "metadata": {
      "needs_background": "light"
     },
     "output_type": "display_data"
    }
   ],
   "source": [
    "sns.distplot(clientes_cola.tiempo_cola)"
   ]
  },
  {
   "cell_type": "markdown",
   "id": "killing-fusion",
   "metadata": {},
   "source": [
    "## Longitud promedio de Cola"
   ]
  },
  {
   "cell_type": "code",
   "execution_count": 25,
   "id": "initial-portrait",
   "metadata": {},
   "outputs": [
    {
     "data": {
      "text/plain": [
       "34.41414141414141"
      ]
     },
     "execution_count": 25,
     "metadata": {},
     "output_type": "execute_result"
    }
   ],
   "source": [
    "clientes_cola.cola.mean()"
   ]
  },
  {
   "cell_type": "markdown",
   "id": "upper-photographer",
   "metadata": {},
   "source": [
    "## Tiempo medio en el sistema"
   ]
  },
  {
   "cell_type": "code",
   "execution_count": 26,
   "id": "descending-marina",
   "metadata": {},
   "outputs": [
    {
     "data": {
      "text/plain": [
       "105.13889583471757"
      ]
     },
     "execution_count": 26,
     "metadata": {},
     "output_type": "execute_result"
    }
   ],
   "source": [
    "df_clientes.tiempo_sistema.mean()"
   ]
  },
  {
   "cell_type": "code",
   "execution_count": 27,
   "id": "consecutive-trace",
   "metadata": {},
   "outputs": [
    {
     "name": "stderr",
     "output_type": "stream",
     "text": [
      "/home/erick/anaconda3/envs/geometria_diff/lib/python3.9/site-packages/seaborn/distributions.py:2551: FutureWarning: `distplot` is a deprecated function and will be removed in a future version. Please adapt your code to use either `displot` (a figure-level function with similar flexibility) or `histplot` (an axes-level function for histograms).\n",
      "  warnings.warn(msg, FutureWarning)\n"
     ]
    },
    {
     "data": {
      "text/plain": [
       "<AxesSubplot:xlabel='tiempo_sistema', ylabel='Density'>"
      ]
     },
     "execution_count": 27,
     "metadata": {},
     "output_type": "execute_result"
    },
    {
     "data": {
      "image/png": "[encoded data removed]",
      "text/plain": [
       "<Figure size 432x288 with 1 Axes>"
      ]
     },
     "metadata": {
      "needs_background": "light"
     },
     "output_type": "display_data"
    }
   ],
   "source": [
    "sns.distplot(df_clientes.tiempo_sistema)"
   ]
  },
  {
   "cell_type": "markdown",
   "id": "pressed-shelf",
   "metadata": {},
   "source": [
    "## Porcentaje Ocupacion"
   ]
  },
  {
   "cell_type": "code",
   "execution_count": null,
   "id": "interior-vertex",
   "metadata": {},
   "outputs": [],
   "source": []
  },
  {
   "cell_type": "markdown",
   "id": "orange-safety",
   "metadata": {},
   "source": [
    "```\n",
    "for evento in lista_eventos:\n",
    "    print(f\"=== Evento: {evento.tipo} ===\")\n",
    "    print(f\"Cola: {evento.estado.cola}\")\n",
    "    print(f\"Estado Operador: {evento.estado.estado_operador}\")\n",
    "    print(f\">> Tiempo: {evento.estado.tiempo}\")\n",
    "    \n",
    "    if evento.tipo == 'final_cliente':\n",
    "        print(f\">> Tiempo Atencion: {evento.estado.tiempo_atencion}\")\n",
    "            \n",
    "    print()\n",
    "```"
   ]
  },
  {
   "cell_type": "code",
   "execution_count": null,
   "id": "minor-lingerie",
   "metadata": {},
   "outputs": [],
   "source": []
  }
 ],
 "metadata": {
  "kernelspec": {
   "display_name": "Python 3",
   "language": "python",
   "name": "python3"
  },
  "language_info": {
   "codemirror_mode": {
    "name": "ipython",
    "version": 3
   },
   "file_extension": ".py",
   "mimetype": "text/x-python",
   "name": "python",
   "nbconvert_exporter": "python",
   "pygments_lexer": "ipython3",
   "version": "3.9.1"
  }
 },
 "nbformat": 4,
 "nbformat_minor": 5
}
