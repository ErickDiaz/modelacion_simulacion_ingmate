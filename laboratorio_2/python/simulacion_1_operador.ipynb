{
 "cells": [
  {
   "cell_type": "code",
   "execution_count": 1,
   "id": "valued-experience",
   "metadata": {},
   "outputs": [],
   "source": [
    "import simpy\n",
    "import random\n",
    "import seaborn as sns\n",
    "\n",
    "from common import tiempo_aleatorio_operador, aleatorio_exponencial\n",
    "from common import nuevo_cliente, final_cliente"
   ]
  },
  {
   "cell_type": "code",
   "execution_count": null,
   "id": "anticipated-strike",
   "metadata": {},
   "outputs": [],
   "source": []
  },
  {
   "cell_type": "code",
   "execution_count": 2,
   "id": "legitimate-settlement",
   "metadata": {},
   "outputs": [
    {
     "data": {
      "image/png": "[encoded data removed]",
      "text/plain": [
       "<Figure size 360x360 with 1 Axes>"
      ]
     },
     "metadata": {
      "needs_background": "light"
     },
     "output_type": "display_data"
    }
   ],
   "source": [
    "tiempos_clientes = []\n",
    "for i in range(0,1000):\n",
    "    t = aleatorio_exponencial(1/7)\n",
    "    tiempos_clientes.append(t)\n",
    "    \n",
    "ax = sns.displot(tiempos_clientes)"
   ]
  },
  {
   "cell_type": "markdown",
   "id": "better-israeli",
   "metadata": {},
   "source": [
    "## Declaracion de Objetos"
   ]
  },
  {
   "cell_type": "markdown",
   "id": "atomic-binding",
   "metadata": {},
   "source": [
    "### Objeto Operador"
   ]
  },
  {
   "cell_type": "code",
   "execution_count": 3,
   "id": "german-registration",
   "metadata": {},
   "outputs": [],
   "source": [
    "class Operador(object):\n",
    "    def __init__(self, nombre, tiempo_prob):\n",
    "        self.nombre = nombre\n",
    "        self.tiempo_prob = tiempo_prob\n",
    "        \n",
    "    "
   ]
  },
  {
   "cell_type": "markdown",
   "id": "addressed-employer",
   "metadata": {},
   "source": [
    "### Objeto Evento"
   ]
  },
  {
   "cell_type": "code",
   "execution_count": 4,
   "id": "polish-adelaide",
   "metadata": {},
   "outputs": [],
   "source": [
    "class Evento(object):\n",
    "    def __init__(self, tipo, estado):\n",
    "        self.tipo = tipo\n",
    "        self.estado = estado\n",
    "        "
   ]
  },
  {
   "cell_type": "markdown",
   "id": "premium-mobility",
   "metadata": {},
   "source": [
    "### Objeto Estado"
   ]
  },
  {
   "cell_type": "code",
   "execution_count": 5,
   "id": "regional-reminder",
   "metadata": {},
   "outputs": [],
   "source": [
    "class Estado(object):\n",
    "    def __init__(self, tiempo, estado_operador, cola):\n",
    "        self.tiempo = tiempo\n",
    "        self.estado_operador = estado_operador\n",
    "        self.cola = cola"
   ]
  },
  {
   "cell_type": "markdown",
   "id": "accompanied-publication",
   "metadata": {},
   "source": [
    "# Operador 1"
   ]
  },
  {
   "cell_type": "code",
   "execution_count": 6,
   "id": "rubber-cosmetic",
   "metadata": {},
   "outputs": [],
   "source": [
    "## Operador 1\n",
    "dict_probabilidades = {\n",
    "    (0,0.3):2,\n",
    "    (0.3,0.5):2.5,\n",
    "    (0.5,0.75):3,\n",
    "    (0.75,1):4\n",
    "}\n",
    "\n",
    "operador_1 = Operador('operador_1', dict_probabilidades)"
   ]
  },
  {
   "cell_type": "code",
   "execution_count": 7,
   "id": "vital-meditation",
   "metadata": {},
   "outputs": [],
   "source": [
    "tiempos_op1 = []\n",
    "for i in range(0,1000):\n",
    "    t = tiempo_aleatorio_operador(operador_1.tiempo_prob)\n",
    "    tiempos_op1.append(t)"
   ]
  },
  {
   "cell_type": "code",
   "execution_count": 8,
   "id": "solved-greeting",
   "metadata": {},
   "outputs": [
    {
     "data": {
      "text/plain": [
       "<seaborn.axisgrid.FacetGrid at 0x7f41bdf79dc0>"
      ]
     },
     "execution_count": 8,
     "metadata": {},
     "output_type": "execute_result"
    },
    {
     "data": {
      "image/png": "[encoded data removed]",
      "text/plain": [
       "<Figure size 360x360 with 1 Axes>"
      ]
     },
     "metadata": {
      "needs_background": "light"
     },
     "output_type": "display_data"
    }
   ],
   "source": [
    "ax = sns.displot(tiempos_op1)\n",
    "ax.set(xlabel=\"Tiempos aleatorios operador 1\")"
   ]
  },
  {
   "cell_type": "markdown",
   "id": "revised-fountain",
   "metadata": {},
   "source": [
    "## Eventos\n",
    "\n",
    "Tipos de evento:\n",
    "- inicio\n",
    "- nuevo_cliente\n",
    "- final_cliente"
   ]
  },
  {
   "cell_type": "markdown",
   "id": "optional-musical",
   "metadata": {},
   "source": [
    "# Simulacion"
   ]
  },
  {
   "cell_type": "code",
   "execution_count": 9,
   "id": "turned-encoding",
   "metadata": {},
   "outputs": [],
   "source": [
    "lista_eventos = []\n",
    "lista_eventos_futuros = []"
   ]
  },
  {
   "cell_type": "markdown",
   "id": "handled-revision",
   "metadata": {},
   "source": [
    "### Evento Inicial"
   ]
  },
  {
   "cell_type": "code",
   "execution_count": 10,
   "id": "opened-clinton",
   "metadata": {},
   "outputs": [],
   "source": [
    "# Tiempo = 0\n",
    "# Estado operador = 0\n",
    "# Cola = 0\n",
    "estado_inicial = Estado(0, 0,0)\n",
    "\n",
    "evento_inicial = Evento('inicio', estado_inicial)"
   ]
  },
  {
   "cell_type": "code",
   "execution_count": 11,
   "id": "human-absorption",
   "metadata": {},
   "outputs": [],
   "source": [
    "lista_eventos_futuros.append(evento_inicial)"
   ]
  },
  {
   "cell_type": "markdown",
   "id": "excessive-timeline",
   "metadata": {},
   "source": [
    "### Agregando Clientes"
   ]
  },
  {
   "cell_type": "code",
   "execution_count": 12,
   "id": "surgical-momentum",
   "metadata": {},
   "outputs": [],
   "source": [
    "tiempo_clientes = 0\n",
    "TOTAL_CLIENTES = 5\n",
    "\n",
    "for i in range(TOTAL_CLIENTES):\n",
    "    tiempo_clientes += aleatorio_exponencial(1/7)\n",
    "    evento = Evento('nuevo_cliente', Estado(tiempo_clientes, 0,0))\n",
    "    lista_eventos_futuros.append(evento)"
   ]
  },
  {
   "cell_type": "raw",
   "id": "extraordinary-melbourne",
   "metadata": {},
   "source": []
  },
  {
   "cell_type": "code",
   "execution_count": 13,
   "id": "common-warehouse",
   "metadata": {},
   "outputs": [],
   "source": [
    "estado_actual = Estado(0,0,0)\n",
    "\n",
    "while (len(lista_eventos_futuros) > 0):\n",
    "    \n",
    "    #Obtenemos el siguiente evento futuro\n",
    "    evento_actual = lista_eventos_futuros.pop(0)\n",
    "    \n",
    "\n",
    "    if evento_actual.tipo == 'nuevo_cliente':\n",
    "        lista_eventos_futuros, estado_actual = nuevo_cliente(\n",
    "            estado_actual,\n",
    "            operador_1.tiempo_prob,\n",
    "            evento_actual,\n",
    "            lista_eventos_futuros\n",
    "        )\n",
    "        \n",
    "    if evento_actual.tipo == 'final_cliente':\n",
    "        lista_eventos_futuros, estado_actual = final_cliente(\n",
    "            estado_actual,\n",
    "            operador_1.tiempo_prob,\n",
    "            evento_actual,\n",
    "            lista_eventos_futuros\n",
    "        )\n",
    "\n",
    "    nuevo_estado = Estado(\n",
    "        estado_actual.tiempo,\n",
    "        estado_actual.estado_operador,\n",
    "        estado_actual.cola\n",
    "    )\n",
    "    \n",
    "    nuevo_evento = Evento(evento_actual.tipo, nuevo_estado)\n",
    "    lista_eventos.append(nuevo_evento)\n",
    "    "
   ]
  },
  {
   "cell_type": "code",
   "execution_count": 14,
   "id": "crucial-typing",
   "metadata": {},
   "outputs": [
    {
     "name": "stdout",
     "output_type": "stream",
     "text": [
      "=== Evento: inicio ===\n",
      "Cola: 0\n",
      "Estado Operador: 0\n",
      ">> Tiempo: 0\n",
      "\n",
      "=== Evento: nuevo_cliente ===\n",
      "Cola: 0\n",
      "Estado Operador: 1\n",
      ">> Tiempo: 1.7312770139894245\n",
      "\n",
      "=== Evento: nuevo_cliente ===\n",
      "Cola: 1\n",
      "Estado Operador: 1\n",
      ">> Tiempo: 2.307016657763234\n",
      "\n",
      "=== Evento: final_cliente ===\n",
      "Cola: 0\n",
      "Estado Operador: 1\n",
      ">> Tiempo: 4.231277013989424\n",
      "\n",
      "=== Evento: final_cliente ===\n",
      "Cola: 0\n",
      "Estado Operador: 0\n",
      ">> Tiempo: 8.231277013989423\n",
      "\n",
      "=== Evento: nuevo_cliente ===\n",
      "Cola: 0\n",
      "Estado Operador: 1\n",
      ">> Tiempo: 16.358259820983122\n",
      "\n",
      "=== Evento: final_cliente ===\n",
      "Cola: 0\n",
      "Estado Operador: 0\n",
      ">> Tiempo: 18.358259820983122\n",
      "\n",
      "=== Evento: nuevo_cliente ===\n",
      "Cola: 0\n",
      "Estado Operador: 1\n",
      ">> Tiempo: 21.991310317309036\n",
      "\n",
      "=== Evento: final_cliente ===\n",
      "Cola: 0\n",
      "Estado Operador: 0\n",
      ">> Tiempo: 24.991310317309036\n",
      "\n",
      "=== Evento: nuevo_cliente ===\n",
      "Cola: 0\n",
      "Estado Operador: 1\n",
      ">> Tiempo: 31.223916966662216\n",
      "\n",
      "=== Evento: final_cliente ===\n",
      "Cola: 0\n",
      "Estado Operador: 0\n",
      ">> Tiempo: 35.223916966662216\n",
      "\n"
     ]
    }
   ],
   "source": [
    "for evento in lista_eventos:\n",
    "    print(f\"=== Evento: {evento.tipo} ===\")\n",
    "    print(f\"Cola: {evento.estado.cola}\")\n",
    "    print(f\"Estado Operador: {evento.estado.estado_operador}\")\n",
    "    print(f\">> Tiempo: {evento.estado.tiempo}\")\n",
    "    print()"
   ]
  },
  {
   "cell_type": "code",
   "execution_count": null,
   "id": "universal-desktop",
   "metadata": {},
   "outputs": [],
   "source": []
  },
  {
   "cell_type": "code",
   "execution_count": null,
   "id": "enormous-sleeve",
   "metadata": {},
   "outputs": [],
   "source": []
  }
 ],
 "metadata": {
  "kernelspec": {
   "display_name": "Python 3",
   "language": "python",
   "name": "python3"
  },
  "language_info": {
   "codemirror_mode": {
    "name": "ipython",
    "version": 3
   },
   "file_extension": ".py",
   "mimetype": "text/x-python",
   "name": "python",
   "nbconvert_exporter": "python",
   "pygments_lexer": "ipython3",
   "version": "3.9.1"
  }
 },
 "nbformat": 4,
 "nbformat_minor": 5
}
